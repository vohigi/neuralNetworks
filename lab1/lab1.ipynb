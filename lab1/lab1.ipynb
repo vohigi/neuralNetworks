{
 "cells": [
  {
   "cell_type": "code",
   "execution_count": 50,
   "metadata": {
    "pycharm": {
     "name": "#%%\n"
    }
   },
   "outputs": [
    {
     "name": "stdout",
     "output_type": "stream",
     "text": [
      "jupyter pandas seaborn notebook\n"
     ]
    }
   ],
   "source": [
    "print(\"jupyter pandas seaborn notebook\")"
   ]
  },
  {
   "cell_type": "code",
   "execution_count": 51,
   "metadata": {
    "pycharm": {
     "name": "#%%\n"
    }
   },
   "outputs": [
    {
     "data": {
      "text/plain": "      MovieID                               Title  \\\n0           2                      Jumanji (1995)   \n1           3             Grumpier Old Men (1995)   \n2           4            Waiting to Exhale (1995)   \n3           5  Father of the Bride Part II (1995)   \n4           6                         Heat (1995)   \n...       ...                                 ...   \n3877     3948             Meet the Parents (2000)   \n3878     3949          Requiem for a Dream (2000)   \n3879     3950                    Tigerland (2000)   \n3880     3951             Two Family House (2000)   \n3881     3952               Contender, The (2000)   \n\n                            Genres  \n0     Adventure|Children's|Fantasy  \n1                   Comedy|Romance  \n2                     Comedy|Drama  \n3                           Comedy  \n4            Action|Crime|Thriller  \n...                            ...  \n3877                        Comedy  \n3878                         Drama  \n3879                         Drama  \n3880                         Drama  \n3881                Drama|Thriller  \n\n[3882 rows x 3 columns]",
      "text/html": "<div>\n<style scoped>\n    .dataframe tbody tr th:only-of-type {\n        vertical-align: middle;\n    }\n\n    .dataframe tbody tr th {\n        vertical-align: top;\n    }\n\n    .dataframe thead th {\n        text-align: right;\n    }\n</style>\n<table border=\"1\" class=\"dataframe\">\n  <thead>\n    <tr style=\"text-align: right;\">\n      <th></th>\n      <th>MovieID</th>\n      <th>Title</th>\n      <th>Genres</th>\n    </tr>\n  </thead>\n  <tbody>\n    <tr>\n      <th>0</th>\n      <td>2</td>\n      <td>Jumanji (1995)</td>\n      <td>Adventure|Children's|Fantasy</td>\n    </tr>\n    <tr>\n      <th>1</th>\n      <td>3</td>\n      <td>Grumpier Old Men (1995)</td>\n      <td>Comedy|Romance</td>\n    </tr>\n    <tr>\n      <th>2</th>\n      <td>4</td>\n      <td>Waiting to Exhale (1995)</td>\n      <td>Comedy|Drama</td>\n    </tr>\n    <tr>\n      <th>3</th>\n      <td>5</td>\n      <td>Father of the Bride Part II (1995)</td>\n      <td>Comedy</td>\n    </tr>\n    <tr>\n      <th>4</th>\n      <td>6</td>\n      <td>Heat (1995)</td>\n      <td>Action|Crime|Thriller</td>\n    </tr>\n    <tr>\n      <th>...</th>\n      <td>...</td>\n      <td>...</td>\n      <td>...</td>\n    </tr>\n    <tr>\n      <th>3877</th>\n      <td>3948</td>\n      <td>Meet the Parents (2000)</td>\n      <td>Comedy</td>\n    </tr>\n    <tr>\n      <th>3878</th>\n      <td>3949</td>\n      <td>Requiem for a Dream (2000)</td>\n      <td>Drama</td>\n    </tr>\n    <tr>\n      <th>3879</th>\n      <td>3950</td>\n      <td>Tigerland (2000)</td>\n      <td>Drama</td>\n    </tr>\n    <tr>\n      <th>3880</th>\n      <td>3951</td>\n      <td>Two Family House (2000)</td>\n      <td>Drama</td>\n    </tr>\n    <tr>\n      <th>3881</th>\n      <td>3952</td>\n      <td>Contender, The (2000)</td>\n      <td>Drama|Thriller</td>\n    </tr>\n  </tbody>\n</table>\n<p>3882 rows × 3 columns</p>\n</div>"
     },
     "execution_count": 51,
     "metadata": {},
     "output_type": "execute_result"
    }
   ],
   "source": [
    "import pandas as pd\n",
    "import numpy as np\n",
    "\n",
    "movies = pd.read_table(\"./ml-1m/movies.dat\", sep=\"::\", header=0,\n",
    "names=[\"MovieID\",\"Title\",\"Genres\"], encoding='cp1250', engine='python')\n",
    "movies"
   ]
  },
  {
   "cell_type": "code",
   "execution_count": 52,
   "metadata": {
    "pycharm": {
     "name": "#%%\n"
    }
   },
   "outputs": [
    {
     "data": {
      "text/plain": "      UserID Gender  Age  Occupation Zip-code\n0          2      M   56          16    70072\n1          3      M   25          15    55117\n2          4      M   45           7    02460\n3          5      M   25          20    55455\n4          6      F   50           9    55117\n...      ...    ...  ...         ...      ...\n6034    6036      F   25          15    32603\n6035    6037      F   45           1    76006\n6036    6038      F   56           1    14706\n6037    6039      F   45           0    01060\n6038    6040      M   25           6    11106\n\n[6039 rows x 5 columns]",
      "text/html": "<div>\n<style scoped>\n    .dataframe tbody tr th:only-of-type {\n        vertical-align: middle;\n    }\n\n    .dataframe tbody tr th {\n        vertical-align: top;\n    }\n\n    .dataframe thead th {\n        text-align: right;\n    }\n</style>\n<table border=\"1\" class=\"dataframe\">\n  <thead>\n    <tr style=\"text-align: right;\">\n      <th></th>\n      <th>UserID</th>\n      <th>Gender</th>\n      <th>Age</th>\n      <th>Occupation</th>\n      <th>Zip-code</th>\n    </tr>\n  </thead>\n  <tbody>\n    <tr>\n      <th>0</th>\n      <td>2</td>\n      <td>M</td>\n      <td>56</td>\n      <td>16</td>\n      <td>70072</td>\n    </tr>\n    <tr>\n      <th>1</th>\n      <td>3</td>\n      <td>M</td>\n      <td>25</td>\n      <td>15</td>\n      <td>55117</td>\n    </tr>\n    <tr>\n      <th>2</th>\n      <td>4</td>\n      <td>M</td>\n      <td>45</td>\n      <td>7</td>\n      <td>02460</td>\n    </tr>\n    <tr>\n      <th>3</th>\n      <td>5</td>\n      <td>M</td>\n      <td>25</td>\n      <td>20</td>\n      <td>55455</td>\n    </tr>\n    <tr>\n      <th>4</th>\n      <td>6</td>\n      <td>F</td>\n      <td>50</td>\n      <td>9</td>\n      <td>55117</td>\n    </tr>\n    <tr>\n      <th>...</th>\n      <td>...</td>\n      <td>...</td>\n      <td>...</td>\n      <td>...</td>\n      <td>...</td>\n    </tr>\n    <tr>\n      <th>6034</th>\n      <td>6036</td>\n      <td>F</td>\n      <td>25</td>\n      <td>15</td>\n      <td>32603</td>\n    </tr>\n    <tr>\n      <th>6035</th>\n      <td>6037</td>\n      <td>F</td>\n      <td>45</td>\n      <td>1</td>\n      <td>76006</td>\n    </tr>\n    <tr>\n      <th>6036</th>\n      <td>6038</td>\n      <td>F</td>\n      <td>56</td>\n      <td>1</td>\n      <td>14706</td>\n    </tr>\n    <tr>\n      <th>6037</th>\n      <td>6039</td>\n      <td>F</td>\n      <td>45</td>\n      <td>0</td>\n      <td>01060</td>\n    </tr>\n    <tr>\n      <th>6038</th>\n      <td>6040</td>\n      <td>M</td>\n      <td>25</td>\n      <td>6</td>\n      <td>11106</td>\n    </tr>\n  </tbody>\n</table>\n<p>6039 rows × 5 columns</p>\n</div>"
     },
     "execution_count": 52,
     "metadata": {},
     "output_type": "execute_result"
    }
   ],
   "source": [
    "users = pd.read_table(\"./ml-1m/users.dat\", sep=\"::\", header=0, names=[\"UserID\",\"Gender\",\"Age\",\"Occupation\", \"Zip-code\"], encoding='cp1250', engine='python')\n",
    "users"
   ]
  },
  {
   "cell_type": "code",
   "execution_count": 53,
   "metadata": {
    "pycharm": {
     "name": "#%%\n"
    }
   },
   "outputs": [
    {
     "data": {
      "text/plain": "         UserID  MovieID  Rating  Timestamp\n0             1      661       3  978302109\n1             1      914       3  978301968\n2             1     3408       4  978300275\n3             1     2355       5  978824291\n4             1     1197       3  978302268\n...         ...      ...     ...        ...\n1000203    6040     1091       1  956716541\n1000204    6040     1094       5  956704887\n1000205    6040      562       5  956704746\n1000206    6040     1096       4  956715648\n1000207    6040     1097       4  956715569\n\n[1000208 rows x 4 columns]",
      "text/html": "<div>\n<style scoped>\n    .dataframe tbody tr th:only-of-type {\n        vertical-align: middle;\n    }\n\n    .dataframe tbody tr th {\n        vertical-align: top;\n    }\n\n    .dataframe thead th {\n        text-align: right;\n    }\n</style>\n<table border=\"1\" class=\"dataframe\">\n  <thead>\n    <tr style=\"text-align: right;\">\n      <th></th>\n      <th>UserID</th>\n      <th>MovieID</th>\n      <th>Rating</th>\n      <th>Timestamp</th>\n    </tr>\n  </thead>\n  <tbody>\n    <tr>\n      <th>0</th>\n      <td>1</td>\n      <td>661</td>\n      <td>3</td>\n      <td>978302109</td>\n    </tr>\n    <tr>\n      <th>1</th>\n      <td>1</td>\n      <td>914</td>\n      <td>3</td>\n      <td>978301968</td>\n    </tr>\n    <tr>\n      <th>2</th>\n      <td>1</td>\n      <td>3408</td>\n      <td>4</td>\n      <td>978300275</td>\n    </tr>\n    <tr>\n      <th>3</th>\n      <td>1</td>\n      <td>2355</td>\n      <td>5</td>\n      <td>978824291</td>\n    </tr>\n    <tr>\n      <th>4</th>\n      <td>1</td>\n      <td>1197</td>\n      <td>3</td>\n      <td>978302268</td>\n    </tr>\n    <tr>\n      <th>...</th>\n      <td>...</td>\n      <td>...</td>\n      <td>...</td>\n      <td>...</td>\n    </tr>\n    <tr>\n      <th>1000203</th>\n      <td>6040</td>\n      <td>1091</td>\n      <td>1</td>\n      <td>956716541</td>\n    </tr>\n    <tr>\n      <th>1000204</th>\n      <td>6040</td>\n      <td>1094</td>\n      <td>5</td>\n      <td>956704887</td>\n    </tr>\n    <tr>\n      <th>1000205</th>\n      <td>6040</td>\n      <td>562</td>\n      <td>5</td>\n      <td>956704746</td>\n    </tr>\n    <tr>\n      <th>1000206</th>\n      <td>6040</td>\n      <td>1096</td>\n      <td>4</td>\n      <td>956715648</td>\n    </tr>\n    <tr>\n      <th>1000207</th>\n      <td>6040</td>\n      <td>1097</td>\n      <td>4</td>\n      <td>956715569</td>\n    </tr>\n  </tbody>\n</table>\n<p>1000208 rows × 4 columns</p>\n</div>"
     },
     "execution_count": 53,
     "metadata": {},
     "output_type": "execute_result"
    }
   ],
   "source": [
    "ratings = pd.read_table(\"./ml-1m/ratings.dat\", sep=\"::\", header=0, names=[\"UserID\",\"MovieID\",\"Rating\",\"Timestamp\"], encoding='cp1250', engine='python')\n",
    "ratings"
   ]
  },
  {
   "cell_type": "code",
   "execution_count": 54,
   "metadata": {
    "pycharm": {
     "name": "#%%\n"
    }
   },
   "outputs": [
    {
     "data": {
      "text/plain": "        UserID Gender  Age  Occupation Zip-code  MovieID  Rating  Timestamp  \\\n0            2      M   56          16    70072     1357       5  978298709   \n1            8      M   25          12    11413     1357       4  978230800   \n2           10      F   35           1    95370     1357       5  978227625   \n3           18      F   18           3    95825     1357       5  978156876   \n4           33      M   45           3    55421     1357       4  978109488   \n...        ...    ...  ...         ...      ...      ...     ...        ...   \n998075    5949      M   18          17    47901     2198       5  958846401   \n998076    5675      M   35          14    30030     2703       3  976029116   \n998077    5780      M   18          17    92886     2845       1  958153068   \n998078    5851      F   18          20    55410     3607       5  957756608   \n998079    5938      M   25           1    35401     2909       4  957273353   \n\n                                              Title                Genres  \n0                                      Shine (1996)         Drama|Romance  \n1                                      Shine (1996)         Drama|Romance  \n2                                      Shine (1996)         Drama|Romance  \n3                                      Shine (1996)         Drama|Romance  \n4                                      Shine (1996)         Drama|Romance  \n...                                             ...                   ...  \n998075                           Modulations (1998)           Documentary  \n998076                        Broken Vessels (1998)                 Drama  \n998077                            White Boys (1999)                 Drama  \n998078                     One Little Indian (1973)  Comedy|Drama|Western  \n998079  Five Wives, Three Secretaries and Me (1998)           Documentary  \n\n[998080 rows x 10 columns]",
      "text/html": "<div>\n<style scoped>\n    .dataframe tbody tr th:only-of-type {\n        vertical-align: middle;\n    }\n\n    .dataframe tbody tr th {\n        vertical-align: top;\n    }\n\n    .dataframe thead th {\n        text-align: right;\n    }\n</style>\n<table border=\"1\" class=\"dataframe\">\n  <thead>\n    <tr style=\"text-align: right;\">\n      <th></th>\n      <th>UserID</th>\n      <th>Gender</th>\n      <th>Age</th>\n      <th>Occupation</th>\n      <th>Zip-code</th>\n      <th>MovieID</th>\n      <th>Rating</th>\n      <th>Timestamp</th>\n      <th>Title</th>\n      <th>Genres</th>\n    </tr>\n  </thead>\n  <tbody>\n    <tr>\n      <th>0</th>\n      <td>2</td>\n      <td>M</td>\n      <td>56</td>\n      <td>16</td>\n      <td>70072</td>\n      <td>1357</td>\n      <td>5</td>\n      <td>978298709</td>\n      <td>Shine (1996)</td>\n      <td>Drama|Romance</td>\n    </tr>\n    <tr>\n      <th>1</th>\n      <td>8</td>\n      <td>M</td>\n      <td>25</td>\n      <td>12</td>\n      <td>11413</td>\n      <td>1357</td>\n      <td>4</td>\n      <td>978230800</td>\n      <td>Shine (1996)</td>\n      <td>Drama|Romance</td>\n    </tr>\n    <tr>\n      <th>2</th>\n      <td>10</td>\n      <td>F</td>\n      <td>35</td>\n      <td>1</td>\n      <td>95370</td>\n      <td>1357</td>\n      <td>5</td>\n      <td>978227625</td>\n      <td>Shine (1996)</td>\n      <td>Drama|Romance</td>\n    </tr>\n    <tr>\n      <th>3</th>\n      <td>18</td>\n      <td>F</td>\n      <td>18</td>\n      <td>3</td>\n      <td>95825</td>\n      <td>1357</td>\n      <td>5</td>\n      <td>978156876</td>\n      <td>Shine (1996)</td>\n      <td>Drama|Romance</td>\n    </tr>\n    <tr>\n      <th>4</th>\n      <td>33</td>\n      <td>M</td>\n      <td>45</td>\n      <td>3</td>\n      <td>55421</td>\n      <td>1357</td>\n      <td>4</td>\n      <td>978109488</td>\n      <td>Shine (1996)</td>\n      <td>Drama|Romance</td>\n    </tr>\n    <tr>\n      <th>...</th>\n      <td>...</td>\n      <td>...</td>\n      <td>...</td>\n      <td>...</td>\n      <td>...</td>\n      <td>...</td>\n      <td>...</td>\n      <td>...</td>\n      <td>...</td>\n      <td>...</td>\n    </tr>\n    <tr>\n      <th>998075</th>\n      <td>5949</td>\n      <td>M</td>\n      <td>18</td>\n      <td>17</td>\n      <td>47901</td>\n      <td>2198</td>\n      <td>5</td>\n      <td>958846401</td>\n      <td>Modulations (1998)</td>\n      <td>Documentary</td>\n    </tr>\n    <tr>\n      <th>998076</th>\n      <td>5675</td>\n      <td>M</td>\n      <td>35</td>\n      <td>14</td>\n      <td>30030</td>\n      <td>2703</td>\n      <td>3</td>\n      <td>976029116</td>\n      <td>Broken Vessels (1998)</td>\n      <td>Drama</td>\n    </tr>\n    <tr>\n      <th>998077</th>\n      <td>5780</td>\n      <td>M</td>\n      <td>18</td>\n      <td>17</td>\n      <td>92886</td>\n      <td>2845</td>\n      <td>1</td>\n      <td>958153068</td>\n      <td>White Boys (1999)</td>\n      <td>Drama</td>\n    </tr>\n    <tr>\n      <th>998078</th>\n      <td>5851</td>\n      <td>F</td>\n      <td>18</td>\n      <td>20</td>\n      <td>55410</td>\n      <td>3607</td>\n      <td>5</td>\n      <td>957756608</td>\n      <td>One Little Indian (1973)</td>\n      <td>Comedy|Drama|Western</td>\n    </tr>\n    <tr>\n      <th>998079</th>\n      <td>5938</td>\n      <td>M</td>\n      <td>25</td>\n      <td>1</td>\n      <td>35401</td>\n      <td>2909</td>\n      <td>4</td>\n      <td>957273353</td>\n      <td>Five Wives, Three Secretaries and Me (1998)</td>\n      <td>Documentary</td>\n    </tr>\n  </tbody>\n</table>\n<p>998080 rows × 10 columns</p>\n</div>"
     },
     "execution_count": 54,
     "metadata": {},
     "output_type": "execute_result"
    }
   ],
   "source": [
    "mergedTable = pd.merge(pd.merge(users, ratings, on=\"UserID\"), movies, on=\"MovieID\")\n",
    "mergedTable"
   ]
  },
  {
   "cell_type": "code",
   "execution_count": 54,
   "outputs": [],
   "source": [],
   "metadata": {
    "collapsed": false,
    "pycharm": {
     "name": "#%%\n"
    }
   }
  },
  {
   "cell_type": "markdown",
   "source": [],
   "metadata": {
    "collapsed": false,
    "pycharm": {
     "name": "#%% md\n"
    }
   }
  },
  {
   "cell_type": "code",
   "execution_count": 55,
   "outputs": [
    {
     "data": {
      "text/plain": "Age                                        1       18        25       35       \\\nGender                                      F   M   F    M    F    M   F    M   \nTitle                                                                           \n$1,000,000 Duck (1971)                      0   0   5   13   10   24  29   18   \n'Night Mother (1986)                        3   1   9    5   63   26  21   40   \n'Til There Was You (1997)                   2   5  16    4   56    8   9   20   \n'burbs, The (1989)                          0   9  85  207   94  211  49  106   \n...And Justice for All (1979)               0   3   0   24   34  182  45  211   \n...                                        ..  ..  ..  ...  ...  ...  ..  ...   \nZed & Two Noughts, A (1985)                 0   1   3    0   10   44  15   19   \nZero Effect (1998)                          9  24  32  201  107  428  44  122   \nZero Kelvin (Kjćrlighetens kjřtere) (1995)  0   0   0    0    0    0   0    7   \nZeus and Roxanne (1997)                     1   8   5    5   12    5   7   14   \neXistenZ (1999)                             4  40  38  235  105  487  37  212   \n\nAge                                         45      50      56      \nGender                                       F   M   F   M   F   M  \nTitle                                                               \n$1,000,000 Duck (1971)                       0   2  10   1   0   0  \n'Night Mother (1986)                        15   8  11  21   0  13  \n'Til There Was You (1997)                    5   2   5   0   6   2  \n'burbs, The (1989)                           6  22  22  55   1  15  \n...And Justice for All (1979)               20  62  22  81  13  42  \n...                                         ..  ..  ..  ..  ..  ..  \nZed & Two Noughts, A (1985)                  0   4   0   3   0   0  \nZero Effect (1998)                          16  48  13  56   7  22  \nZero Kelvin (Kjćrlighetens kjřtere) (1995)   0   0   0   0   0   0  \nZeus and Roxanne (1997)                      0   1   0   0   0   0  \neXistenZ (1999)                             22  65  14  65   0  11  \n\n[3705 rows x 14 columns]",
      "text/html": "<div>\n<style scoped>\n    .dataframe tbody tr th:only-of-type {\n        vertical-align: middle;\n    }\n\n    .dataframe tbody tr th {\n        vertical-align: top;\n    }\n\n    .dataframe thead tr th {\n        text-align: left;\n    }\n\n    .dataframe thead tr:last-of-type th {\n        text-align: right;\n    }\n</style>\n<table border=\"1\" class=\"dataframe\">\n  <thead>\n    <tr>\n      <th>Age</th>\n      <th colspan=\"2\" halign=\"left\">1</th>\n      <th colspan=\"2\" halign=\"left\">18</th>\n      <th colspan=\"2\" halign=\"left\">25</th>\n      <th colspan=\"2\" halign=\"left\">35</th>\n      <th colspan=\"2\" halign=\"left\">45</th>\n      <th colspan=\"2\" halign=\"left\">50</th>\n      <th colspan=\"2\" halign=\"left\">56</th>\n    </tr>\n    <tr>\n      <th>Gender</th>\n      <th>F</th>\n      <th>M</th>\n      <th>F</th>\n      <th>M</th>\n      <th>F</th>\n      <th>M</th>\n      <th>F</th>\n      <th>M</th>\n      <th>F</th>\n      <th>M</th>\n      <th>F</th>\n      <th>M</th>\n      <th>F</th>\n      <th>M</th>\n    </tr>\n    <tr>\n      <th>Title</th>\n      <th></th>\n      <th></th>\n      <th></th>\n      <th></th>\n      <th></th>\n      <th></th>\n      <th></th>\n      <th></th>\n      <th></th>\n      <th></th>\n      <th></th>\n      <th></th>\n      <th></th>\n      <th></th>\n    </tr>\n  </thead>\n  <tbody>\n    <tr>\n      <th>$1,000,000 Duck (1971)</th>\n      <td>0</td>\n      <td>0</td>\n      <td>5</td>\n      <td>13</td>\n      <td>10</td>\n      <td>24</td>\n      <td>29</td>\n      <td>18</td>\n      <td>0</td>\n      <td>2</td>\n      <td>10</td>\n      <td>1</td>\n      <td>0</td>\n      <td>0</td>\n    </tr>\n    <tr>\n      <th>'Night Mother (1986)</th>\n      <td>3</td>\n      <td>1</td>\n      <td>9</td>\n      <td>5</td>\n      <td>63</td>\n      <td>26</td>\n      <td>21</td>\n      <td>40</td>\n      <td>15</td>\n      <td>8</td>\n      <td>11</td>\n      <td>21</td>\n      <td>0</td>\n      <td>13</td>\n    </tr>\n    <tr>\n      <th>'Til There Was You (1997)</th>\n      <td>2</td>\n      <td>5</td>\n      <td>16</td>\n      <td>4</td>\n      <td>56</td>\n      <td>8</td>\n      <td>9</td>\n      <td>20</td>\n      <td>5</td>\n      <td>2</td>\n      <td>5</td>\n      <td>0</td>\n      <td>6</td>\n      <td>2</td>\n    </tr>\n    <tr>\n      <th>'burbs, The (1989)</th>\n      <td>0</td>\n      <td>9</td>\n      <td>85</td>\n      <td>207</td>\n      <td>94</td>\n      <td>211</td>\n      <td>49</td>\n      <td>106</td>\n      <td>6</td>\n      <td>22</td>\n      <td>22</td>\n      <td>55</td>\n      <td>1</td>\n      <td>15</td>\n    </tr>\n    <tr>\n      <th>...And Justice for All (1979)</th>\n      <td>0</td>\n      <td>3</td>\n      <td>0</td>\n      <td>24</td>\n      <td>34</td>\n      <td>182</td>\n      <td>45</td>\n      <td>211</td>\n      <td>20</td>\n      <td>62</td>\n      <td>22</td>\n      <td>81</td>\n      <td>13</td>\n      <td>42</td>\n    </tr>\n    <tr>\n      <th>...</th>\n      <td>...</td>\n      <td>...</td>\n      <td>...</td>\n      <td>...</td>\n      <td>...</td>\n      <td>...</td>\n      <td>...</td>\n      <td>...</td>\n      <td>...</td>\n      <td>...</td>\n      <td>...</td>\n      <td>...</td>\n      <td>...</td>\n      <td>...</td>\n    </tr>\n    <tr>\n      <th>Zed &amp; Two Noughts, A (1985)</th>\n      <td>0</td>\n      <td>1</td>\n      <td>3</td>\n      <td>0</td>\n      <td>10</td>\n      <td>44</td>\n      <td>15</td>\n      <td>19</td>\n      <td>0</td>\n      <td>4</td>\n      <td>0</td>\n      <td>3</td>\n      <td>0</td>\n      <td>0</td>\n    </tr>\n    <tr>\n      <th>Zero Effect (1998)</th>\n      <td>9</td>\n      <td>24</td>\n      <td>32</td>\n      <td>201</td>\n      <td>107</td>\n      <td>428</td>\n      <td>44</td>\n      <td>122</td>\n      <td>16</td>\n      <td>48</td>\n      <td>13</td>\n      <td>56</td>\n      <td>7</td>\n      <td>22</td>\n    </tr>\n    <tr>\n      <th>Zero Kelvin (Kjćrlighetens kjřtere) (1995)</th>\n      <td>0</td>\n      <td>0</td>\n      <td>0</td>\n      <td>0</td>\n      <td>0</td>\n      <td>0</td>\n      <td>0</td>\n      <td>7</td>\n      <td>0</td>\n      <td>0</td>\n      <td>0</td>\n      <td>0</td>\n      <td>0</td>\n      <td>0</td>\n    </tr>\n    <tr>\n      <th>Zeus and Roxanne (1997)</th>\n      <td>1</td>\n      <td>8</td>\n      <td>5</td>\n      <td>5</td>\n      <td>12</td>\n      <td>5</td>\n      <td>7</td>\n      <td>14</td>\n      <td>0</td>\n      <td>1</td>\n      <td>0</td>\n      <td>0</td>\n      <td>0</td>\n      <td>0</td>\n    </tr>\n    <tr>\n      <th>eXistenZ (1999)</th>\n      <td>4</td>\n      <td>40</td>\n      <td>38</td>\n      <td>235</td>\n      <td>105</td>\n      <td>487</td>\n      <td>37</td>\n      <td>212</td>\n      <td>22</td>\n      <td>65</td>\n      <td>14</td>\n      <td>65</td>\n      <td>0</td>\n      <td>11</td>\n    </tr>\n  </tbody>\n</table>\n<p>3705 rows × 14 columns</p>\n</div>"
     },
     "execution_count": 55,
     "metadata": {},
     "output_type": "execute_result"
    }
   ],
   "source": [
    "agePivot = mergedTable.pivot_table(values='Rating', index='Title', columns=['Age', 'Gender'], aggfunc='sum', fill_value=0)\n",
    "agePivot"
   ],
   "metadata": {
    "collapsed": false,
    "pycharm": {
     "name": "#%%\n"
    }
   }
  },
  {
   "cell_type": "code",
   "execution_count": 55,
   "outputs": [],
   "source": [],
   "metadata": {
    "collapsed": false,
    "pycharm": {
     "name": "#%%\n"
    }
   }
  },
  {
   "cell_type": "code",
   "execution_count": 56,
   "outputs": [
    {
     "data": {
      "text/plain": "                                  1-F  \\\n1                  Toy Story 2 (1999)   \n2          Shakespeare in Love (1998)   \n3                      Aladdin (1992)   \n4                 Forrest Gump (1994)   \n5             Sixth Sense, The (1999)   \n6              American Beauty (1999)   \n7                Bug's Life, A (1998)   \n8   E.T. the Extra-Terrestrial (1982)   \n9                         Babe (1995)   \n10                Men in Black (1997)   \n\n                                                  1-M  \\\n1                                  Matrix, The (1999)   \n2                             Sixth Sense, The (1999)   \n3           Star Wars: Episode IV - A New Hope (1977)   \n4   Star Wars: Episode VI - Return of the Jedi (1983)   \n5   Star Wars: Episode V - The Empire Strikes Back...   \n6                          Saving Private Ryan (1998)   \n7                              American Beauty (1999)   \n8                                 Men in Black (1997)   \n9                                  Toy Story 2 (1999)   \n10                     Raiders of the Lost Ark (1981)   \n\n                                                 25-F  \\\n1                              American Beauty (1999)   \n2                    Silence of the Lambs, The (1991)   \n3                          Shakespeare in Love (1998)   \n4                          Princess Bride, The (1987)   \n5                             Sixth Sense, The (1999)   \n6                                        Fargo (1996)   \n7                    Shawshank Redemption, The (1994)   \n8   Star Wars: Episode V - The Empire Strikes Back...   \n9           Star Wars: Episode IV - A New Hope (1977)   \n10                     Raiders of the Lost Ark (1981)   \n\n                                                 25-M  \\\n1                              American Beauty (1999)   \n2           Star Wars: Episode IV - A New Hope (1977)   \n3   Star Wars: Episode V - The Empire Strikes Back...   \n4                                  Matrix, The (1999)   \n5                   Terminator 2: Judgment Day (1991)   \n6   Star Wars: Episode VI - Return of the Jedi (1983)   \n7                      Raiders of the Lost Ark (1981)   \n8                          Saving Private Ryan (1998)   \n9                    Silence of the Lambs, The (1991)   \n10                                  Braveheart (1995)   \n\n                                                 35-F  \\\n1                              American Beauty (1999)   \n2                          Shakespeare in Love (1998)   \n3                    Silence of the Lambs, The (1991)   \n4                             Sixth Sense, The (1999)   \n5           Star Wars: Episode IV - A New Hope (1977)   \n6                                        Fargo (1996)   \n7   Star Wars: Episode V - The Empire Strikes Back...   \n8                                   Casablanca (1942)   \n9                      Raiders of the Lost Ark (1981)   \n10                                        Babe (1995)   \n\n                                                 35-M  \\\n1           Star Wars: Episode IV - A New Hope (1977)   \n2   Star Wars: Episode V - The Empire Strikes Back...   \n3                              American Beauty (1999)   \n4                   Terminator 2: Judgment Day (1991)   \n5                          Saving Private Ryan (1998)   \n6                      Raiders of the Lost Ark (1981)   \n7                               Godfather, The (1972)   \n8   Star Wars: Episode VI - Return of the Jedi (1983)   \n9                                        Alien (1979)   \n10                                 Matrix, The (1999)   \n\n                                         45-F  \\\n1                      American Beauty (1999)   \n2                  Shakespeare in Love (1998)   \n3                     Schindler's List (1993)   \n4   Star Wars: Episode IV - A New Hope (1977)   \n5            Shawshank Redemption, The (1994)   \n6            Silence of the Lambs, The (1991)   \n7                         Forrest Gump (1994)   \n8                           Casablanca (1942)   \n9                                Fargo (1996)   \n10          E.T. the Extra-Terrestrial (1982)   \n\n                                                 45-M  \\\n1           Star Wars: Episode IV - A New Hope (1977)   \n2                              American Beauty (1999)   \n3   Star Wars: Episode V - The Empire Strikes Back...   \n4                               Godfather, The (1972)   \n5                      Raiders of the Lost Ark (1981)   \n6                          Saving Private Ryan (1998)   \n7                             Schindler's List (1993)   \n8                                Jurassic Park (1993)   \n9                                        Fargo (1996)   \n10                  Terminator 2: Judgment Day (1991)   \n\n                                         50-F  \\\n1                      American Beauty (1999)   \n2                  Shakespeare in Love (1998)   \n3                                Fargo (1996)   \n4                       Godfather, The (1972)   \n5   Star Wars: Episode IV - A New Hope (1977)   \n6                     Schindler's List (1993)   \n7                    L.A. Confidential (1997)   \n8                           Casablanca (1942)   \n9            Shawshank Redemption, The (1994)   \n10                    Sixth Sense, The (1999)   \n\n                                                 50-M  \\\n1                              American Beauty (1999)   \n2           Star Wars: Episode IV - A New Hope (1977)   \n3                               Godfather, The (1972)   \n4   Star Wars: Episode V - The Empire Strikes Back...   \n5                          Saving Private Ryan (1998)   \n6                   Terminator 2: Judgment Day (1991)   \n7                                        Fargo (1996)   \n8                                   Braveheart (1995)   \n9           Butch Cassidy and the Sundance Kid (1969)   \n10                           L.A. Confidential (1997)   \n\n                                      56-F  \\\n1                   American Beauty (1999)   \n2                  Schindler's List (1993)   \n3   One Flew Over the Cuckoo's Nest (1975)   \n4               Shakespeare in Love (1998)   \n5                Gone with the Wind (1939)   \n6         Shawshank Redemption, The (1994)   \n7                      Forrest Gump (1994)   \n8               Saving Private Ryan (1998)   \n9                    Godfather, The (1972)   \n10                Wizard of Oz, The (1939)   \n\n                                                 56-M  \\\n1                              American Beauty (1999)   \n2                             Schindler's List (1993)   \n3                               Godfather, The (1972)   \n4                          Saving Private Ryan (1998)   \n5                                        Fargo (1996)   \n6           Star Wars: Episode IV - A New Hope (1977)   \n7                    Silence of the Lambs, The (1991)   \n8                          Shakespeare in Love (1998)   \n9   Star Wars: Episode V - The Empire Strikes Back...   \n10          Butch Cassidy and the Sundance Kid (1969)   \n\n                                                 18-F  \\\n1                              American Beauty (1999)   \n2                          Shakespeare in Love (1998)   \n3                          Princess Bride, The (1987)   \n4                             Sixth Sense, The (1999)   \n5                    Shawshank Redemption, The (1994)   \n6                    Silence of the Lambs, The (1991)   \n7                                 Forrest Gump (1994)   \n8                             Schindler's List (1993)   \n9   Star Wars: Episode V - The Empire Strikes Back...   \n10  Star Wars: Episode VI - Return of the Jedi (1983)   \n\n                                                 18-M  \n1                              American Beauty (1999)  \n2   Star Wars: Episode V - The Empire Strikes Back...  \n3                                  Matrix, The (1999)  \n4           Star Wars: Episode IV - A New Hope (1977)  \n5   Star Wars: Episode VI - Return of the Jedi (1983)  \n6                                   Braveheart (1995)  \n7                          Saving Private Ryan (1998)  \n8                   Terminator 2: Judgment Day (1991)  \n9                             Sixth Sense, The (1999)  \n10                     Raiders of the Lost Ark (1981)  ",
      "text/html": "<div>\n<style scoped>\n    .dataframe tbody tr th:only-of-type {\n        vertical-align: middle;\n    }\n\n    .dataframe tbody tr th {\n        vertical-align: top;\n    }\n\n    .dataframe thead th {\n        text-align: right;\n    }\n</style>\n<table border=\"1\" class=\"dataframe\">\n  <thead>\n    <tr style=\"text-align: right;\">\n      <th></th>\n      <th>1-F</th>\n      <th>1-M</th>\n      <th>25-F</th>\n      <th>25-M</th>\n      <th>35-F</th>\n      <th>35-M</th>\n      <th>45-F</th>\n      <th>45-M</th>\n      <th>50-F</th>\n      <th>50-M</th>\n      <th>56-F</th>\n      <th>56-M</th>\n      <th>18-F</th>\n      <th>18-M</th>\n    </tr>\n  </thead>\n  <tbody>\n    <tr>\n      <th>1</th>\n      <td>Toy Story 2 (1999)</td>\n      <td>Matrix, The (1999)</td>\n      <td>American Beauty (1999)</td>\n      <td>American Beauty (1999)</td>\n      <td>American Beauty (1999)</td>\n      <td>Star Wars: Episode IV - A New Hope (1977)</td>\n      <td>American Beauty (1999)</td>\n      <td>Star Wars: Episode IV - A New Hope (1977)</td>\n      <td>American Beauty (1999)</td>\n      <td>American Beauty (1999)</td>\n      <td>American Beauty (1999)</td>\n      <td>American Beauty (1999)</td>\n      <td>American Beauty (1999)</td>\n      <td>American Beauty (1999)</td>\n    </tr>\n    <tr>\n      <th>2</th>\n      <td>Shakespeare in Love (1998)</td>\n      <td>Sixth Sense, The (1999)</td>\n      <td>Silence of the Lambs, The (1991)</td>\n      <td>Star Wars: Episode IV - A New Hope (1977)</td>\n      <td>Shakespeare in Love (1998)</td>\n      <td>Star Wars: Episode V - The Empire Strikes Back...</td>\n      <td>Shakespeare in Love (1998)</td>\n      <td>American Beauty (1999)</td>\n      <td>Shakespeare in Love (1998)</td>\n      <td>Star Wars: Episode IV - A New Hope (1977)</td>\n      <td>Schindler's List (1993)</td>\n      <td>Schindler's List (1993)</td>\n      <td>Shakespeare in Love (1998)</td>\n      <td>Star Wars: Episode V - The Empire Strikes Back...</td>\n    </tr>\n    <tr>\n      <th>3</th>\n      <td>Aladdin (1992)</td>\n      <td>Star Wars: Episode IV - A New Hope (1977)</td>\n      <td>Shakespeare in Love (1998)</td>\n      <td>Star Wars: Episode V - The Empire Strikes Back...</td>\n      <td>Silence of the Lambs, The (1991)</td>\n      <td>American Beauty (1999)</td>\n      <td>Schindler's List (1993)</td>\n      <td>Star Wars: Episode V - The Empire Strikes Back...</td>\n      <td>Fargo (1996)</td>\n      <td>Godfather, The (1972)</td>\n      <td>One Flew Over the Cuckoo's Nest (1975)</td>\n      <td>Godfather, The (1972)</td>\n      <td>Princess Bride, The (1987)</td>\n      <td>Matrix, The (1999)</td>\n    </tr>\n    <tr>\n      <th>4</th>\n      <td>Forrest Gump (1994)</td>\n      <td>Star Wars: Episode VI - Return of the Jedi (1983)</td>\n      <td>Princess Bride, The (1987)</td>\n      <td>Matrix, The (1999)</td>\n      <td>Sixth Sense, The (1999)</td>\n      <td>Terminator 2: Judgment Day (1991)</td>\n      <td>Star Wars: Episode IV - A New Hope (1977)</td>\n      <td>Godfather, The (1972)</td>\n      <td>Godfather, The (1972)</td>\n      <td>Star Wars: Episode V - The Empire Strikes Back...</td>\n      <td>Shakespeare in Love (1998)</td>\n      <td>Saving Private Ryan (1998)</td>\n      <td>Sixth Sense, The (1999)</td>\n      <td>Star Wars: Episode IV - A New Hope (1977)</td>\n    </tr>\n    <tr>\n      <th>5</th>\n      <td>Sixth Sense, The (1999)</td>\n      <td>Star Wars: Episode V - The Empire Strikes Back...</td>\n      <td>Sixth Sense, The (1999)</td>\n      <td>Terminator 2: Judgment Day (1991)</td>\n      <td>Star Wars: Episode IV - A New Hope (1977)</td>\n      <td>Saving Private Ryan (1998)</td>\n      <td>Shawshank Redemption, The (1994)</td>\n      <td>Raiders of the Lost Ark (1981)</td>\n      <td>Star Wars: Episode IV - A New Hope (1977)</td>\n      <td>Saving Private Ryan (1998)</td>\n      <td>Gone with the Wind (1939)</td>\n      <td>Fargo (1996)</td>\n      <td>Shawshank Redemption, The (1994)</td>\n      <td>Star Wars: Episode VI - Return of the Jedi (1983)</td>\n    </tr>\n    <tr>\n      <th>6</th>\n      <td>American Beauty (1999)</td>\n      <td>Saving Private Ryan (1998)</td>\n      <td>Fargo (1996)</td>\n      <td>Star Wars: Episode VI - Return of the Jedi (1983)</td>\n      <td>Fargo (1996)</td>\n      <td>Raiders of the Lost Ark (1981)</td>\n      <td>Silence of the Lambs, The (1991)</td>\n      <td>Saving Private Ryan (1998)</td>\n      <td>Schindler's List (1993)</td>\n      <td>Terminator 2: Judgment Day (1991)</td>\n      <td>Shawshank Redemption, The (1994)</td>\n      <td>Star Wars: Episode IV - A New Hope (1977)</td>\n      <td>Silence of the Lambs, The (1991)</td>\n      <td>Braveheart (1995)</td>\n    </tr>\n    <tr>\n      <th>7</th>\n      <td>Bug's Life, A (1998)</td>\n      <td>American Beauty (1999)</td>\n      <td>Shawshank Redemption, The (1994)</td>\n      <td>Raiders of the Lost Ark (1981)</td>\n      <td>Star Wars: Episode V - The Empire Strikes Back...</td>\n      <td>Godfather, The (1972)</td>\n      <td>Forrest Gump (1994)</td>\n      <td>Schindler's List (1993)</td>\n      <td>L.A. Confidential (1997)</td>\n      <td>Fargo (1996)</td>\n      <td>Forrest Gump (1994)</td>\n      <td>Silence of the Lambs, The (1991)</td>\n      <td>Forrest Gump (1994)</td>\n      <td>Saving Private Ryan (1998)</td>\n    </tr>\n    <tr>\n      <th>8</th>\n      <td>E.T. the Extra-Terrestrial (1982)</td>\n      <td>Men in Black (1997)</td>\n      <td>Star Wars: Episode V - The Empire Strikes Back...</td>\n      <td>Saving Private Ryan (1998)</td>\n      <td>Casablanca (1942)</td>\n      <td>Star Wars: Episode VI - Return of the Jedi (1983)</td>\n      <td>Casablanca (1942)</td>\n      <td>Jurassic Park (1993)</td>\n      <td>Casablanca (1942)</td>\n      <td>Braveheart (1995)</td>\n      <td>Saving Private Ryan (1998)</td>\n      <td>Shakespeare in Love (1998)</td>\n      <td>Schindler's List (1993)</td>\n      <td>Terminator 2: Judgment Day (1991)</td>\n    </tr>\n    <tr>\n      <th>9</th>\n      <td>Babe (1995)</td>\n      <td>Toy Story 2 (1999)</td>\n      <td>Star Wars: Episode IV - A New Hope (1977)</td>\n      <td>Silence of the Lambs, The (1991)</td>\n      <td>Raiders of the Lost Ark (1981)</td>\n      <td>Alien (1979)</td>\n      <td>Fargo (1996)</td>\n      <td>Fargo (1996)</td>\n      <td>Shawshank Redemption, The (1994)</td>\n      <td>Butch Cassidy and the Sundance Kid (1969)</td>\n      <td>Godfather, The (1972)</td>\n      <td>Star Wars: Episode V - The Empire Strikes Back...</td>\n      <td>Star Wars: Episode V - The Empire Strikes Back...</td>\n      <td>Sixth Sense, The (1999)</td>\n    </tr>\n    <tr>\n      <th>10</th>\n      <td>Men in Black (1997)</td>\n      <td>Raiders of the Lost Ark (1981)</td>\n      <td>Raiders of the Lost Ark (1981)</td>\n      <td>Braveheart (1995)</td>\n      <td>Babe (1995)</td>\n      <td>Matrix, The (1999)</td>\n      <td>E.T. the Extra-Terrestrial (1982)</td>\n      <td>Terminator 2: Judgment Day (1991)</td>\n      <td>Sixth Sense, The (1999)</td>\n      <td>L.A. Confidential (1997)</td>\n      <td>Wizard of Oz, The (1939)</td>\n      <td>Butch Cassidy and the Sundance Kid (1969)</td>\n      <td>Star Wars: Episode VI - Return of the Jedi (1983)</td>\n      <td>Raiders of the Lost Ark (1981)</td>\n    </tr>\n  </tbody>\n</table>\n</div>"
     },
     "execution_count": 56,
     "metadata": {},
     "output_type": "execute_result"
    }
   ],
   "source": [
    "\n",
    "genders = ['F', 'M']\n",
    "ages = [1, 18, 25, 35, 45, 50, 56]\n",
    "result = pd.DataFrame(columns=['1-F','1-M', '25-F', '25-M', '35-F', '35-M', '45-F', '45-M', '50-F', '50-M', '56-F', '56-M'])\n",
    "for age in ages:\n",
    "    for gender in genders:\n",
    "        ratings = agePivot[age][gender].sort_values(ascending=False).head(10)\n",
    "        result[str(age) + '-' + gender] = ratings.index\n",
    "result.index = np.arange(1, len(result) + 1)\n",
    "result"
   ],
   "metadata": {
    "collapsed": false,
    "pycharm": {
     "name": "#%%\n"
    }
   }
  },
  {
   "cell_type": "code",
   "execution_count": 56,
   "outputs": [],
   "source": [],
   "metadata": {
    "collapsed": false,
    "pycharm": {
     "name": "#%%\n"
    }
   }
  }
 ],
 "metadata": {
  "kernelspec": {
   "display_name": "Python 3 (ipykernel)",
   "language": "python",
   "name": "python3"
  },
  "language_info": {
   "codemirror_mode": {
    "name": "ipython",
    "version": 3
   },
   "file_extension": ".py",
   "mimetype": "text/x-python",
   "name": "python",
   "nbconvert_exporter": "python",
   "pygments_lexer": "ipython3",
   "version": "3.10.4"
  }
 },
 "nbformat": 4,
 "nbformat_minor": 1
}